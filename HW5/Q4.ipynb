{
  "cells": [
    {
      "cell_type": "markdown",
      "metadata": {
        "id": "7F5aMkv-2bP2"
      },
      "source": [
        "# HW 5"
      ]
    },
    {
      "cell_type": "markdown",
      "metadata": {
        "id": "h5CBtGaY2zNF"
      },
      "source": [
        "In this exercise, we want to classify images with neural networks by TensorFlow and Keras frameworks.\n",
        "\n",
        "First you should analayze the following code which is a sample code from TensorFlow official site. \n",
        "\n",
        "https://www.tensorflow.org/tutorials/keras/classification\n",
        "\n",
        "Then you should implement your code for classification of Mnist dataset.\n",
        "\n",
        "Note that the following code is only implemented with sequential approach. You should implement your code with both sequential and functional approaches."
      ]
    },
    {
      "cell_type": "markdown",
      "metadata": {
        "id": "fViUZk9j7mF3"
      },
      "source": [
        "## Basic classification: Classify images of clothing"
      ]
    },
    {
      "cell_type": "markdown",
      "metadata": {
        "id": "rgd1DLVO8V6l"
      },
      "source": [
        "This guide trains a neural network model to classify images of clothing, like sneakers and shirts. It's okay if you don't understand all the details"
      ]
    },
    {
      "cell_type": "code",
      "execution_count": 2,
      "metadata": {
        "id": "qchhyIoSs2gM"
      },
      "outputs": [],
      "source": [
        "import tensorflow as tf \n",
        "import numpy as np\n",
        "import matplotlib.pyplot as plt\n",
        "from tensorflow.keras.models import Sequential, Model\n",
        "from tensorflow.keras.layers import Input, Dense, Flatten, Softmax"
      ]
    },
    {
      "cell_type": "markdown",
      "metadata": {
        "id": "RpfyR5_g8pFu"
      },
      "source": [
        "### Import the Fashion MNIST dataset"
      ]
    },
    {
      "cell_type": "markdown",
      "metadata": {
        "id": "Drfe55p48ztH"
      },
      "source": [
        "This guide uses the [Fashion MNIST](https://github.com/zalandoresearch/fashion-mnist) dataset which contains 70,000 grayscale images in 10 categories. The images show individual articles of clothing at low resolution (28 by 28 pixels).\n",
        "\n",
        "Here, 60,000 images are used to train the network and 10,000 images to evaluate how accurately the network learned to classify images. You can access the Fashion MNIST directly from TensorFlow. Import and [load the Fashion MNIST data](https://www.tensorflow.org/api_docs/python/tf/keras/datasets/fashion_mnist/load_data) directly from TensorFlow:"
      ]
    },
    {
      "cell_type": "code",
      "execution_count": null,
      "metadata": {
        "id": "_Zk7e8LGxHPN"
      },
      "outputs": [],
      "source": [
        "labels_name = ['T-shirt/top','Trouser','Pullover','Dress','Coat','Sandal','Shirt','Sneaker','Bag','Ankle boot']\n",
        "fashion_mnist = tf.keras.datasets.fashion_mnist\n",
        "(x_train, y_train), (x_test, y_test) = fashion_mnist.load_data()\n"
      ]
    },
    {
      "cell_type": "markdown",
      "metadata": {
        "id": "Nf57YIy2-r_j"
      },
      "source": [
        "Loading the dataset returns four NumPy arrays:\n",
        "\n",
        "* The `train_images` and `train_labels` arrays are the *training set*—the data the model uses to learn.\n",
        "* The model is tested against the *test set*, the `test_images`, and `test_labels` arrays.\n",
        "\n",
        "The images are 28x28 NumPy arrays, with pixel values ranging from 0 to 255. The *labels* are an array of integers, ranging from 0 to 9. These correspond to the *class* of clothing the image represents:\n",
        "\n",
        "<table>\n",
        "  <tr>\n",
        "    <th>Label</th>\n",
        "    <th>Class</th>\n",
        "  </tr>\n",
        "  <tr>\n",
        "    <td>0</td>\n",
        "    <td>T-shirt/top</td>\n",
        "  </tr>\n",
        "  <tr>\n",
        "    <td>1</td>\n",
        "    <td>Trouser</td>\n",
        "  </tr>\n",
        "    <tr>\n",
        "    <td>2</td>\n",
        "    <td>Pullover</td>\n",
        "  </tr>\n",
        "    <tr>\n",
        "    <td>3</td>\n",
        "    <td>Dress</td>\n",
        "  </tr>\n",
        "    <tr>\n",
        "    <td>4</td>\n",
        "    <td>Coat</td>\n",
        "  </tr>\n",
        "    <tr>\n",
        "    <td>5</td>\n",
        "    <td>Sandal</td>\n",
        "  </tr>\n",
        "    <tr>\n",
        "    <td>6</td>\n",
        "    <td>Shirt</td>\n",
        "  </tr>\n",
        "    <tr>\n",
        "    <td>7</td>\n",
        "    <td>Sneaker</td>\n",
        "  </tr>\n",
        "    <tr>\n",
        "    <td>8</td>\n",
        "    <td>Bag</td>\n",
        "  </tr>\n",
        "    <tr>\n",
        "    <td>9</td>\n",
        "    <td>Ankle boot</td>\n",
        "  </tr>\n",
        "</table>\n",
        "\n",
        "Each image is mapped to a single label. Since the *class names* are not included with the dataset, store them here to use later when plotting the images:"
      ]
    },
    {
      "cell_type": "code",
      "execution_count": null,
      "metadata": {
        "id": "hR0fkY4M-81A"
      },
      "outputs": [],
      "source": [
        "class_names = ['T-shirt/top', 'Trouser', 'Pullover', 'Dress', 'Coat',\n",
        "               'Sandal', 'Shirt', 'Sneaker', 'Bag', 'Ankle boot']"
      ]
    },
    {
      "cell_type": "markdown",
      "metadata": {
        "id": "Q7IAZYi1CjNr"
      },
      "source": [
        "In the following cells, you can information about this dataset:"
      ]
    },
    {
      "cell_type": "code",
      "execution_count": null,
      "metadata": {
        "colab": {
          "base_uri": "https://localhost:8080/"
        },
        "id": "atVBB8zV-OIZ",
        "outputId": "a2bb451b-c3f8-4d22-f873-a5d2964e1c83"
      },
      "outputs": [
        {
          "name": "stdout",
          "output_type": "stream",
          "text": [
            "x_train : (60000, 28, 28)\n",
            "y_train : (60000,)\n",
            "x_test : (10000, 28, 28)\n",
            "y_test : (10000,)\n"
          ]
        }
      ],
      "source": [
        "print(f'x_train : {x_train.shape}')\n",
        "print(f'y_train : {y_train.shape}')\n",
        "print(f'x_test : {x_test.shape}')\n",
        "print(f'y_test : {y_test.shape}')"
      ]
    },
    {
      "cell_type": "code",
      "execution_count": null,
      "metadata": {
        "colab": {
          "base_uri": "https://localhost:8080/",
          "height": 591
        },
        "id": "_RyJG7Flx_BZ",
        "outputId": "f9466459-d52d-4536-91bc-1ba99e10b038"
      },
      "outputs": [
        {
          "data": {
            "image/png": "[encoded data removed]",
            "text/plain": [
              "<Figure size 720x720 with 9 Axes>"
            ]
          },
          "metadata": {
            "needs_background": "light"
          },
          "output_type": "display_data"
        }
      ],
      "source": [
        "plt.figure(figsize=(10, 10))\n",
        "for i in range(9):\n",
        "    ax = plt.subplot(3, 3, i + 1)\n",
        "    plt.imshow(x_train[i].astype(\"uint8\"),cmap='gray')\n",
        "    plt.title(class_names[int(y_train[i])])\n",
        "    plt.axis(\"off\")"
      ]
    },
    {
      "cell_type": "code",
      "execution_count": null,
      "metadata": {
        "colab": {
          "base_uri": "https://localhost:8080/"
        },
        "id": "CiqKDmosDCWY",
        "outputId": "eb4d292e-10f3-4cb7-823b-f14c8c416d83"
      },
      "outputs": [
        {
          "name": "stdout",
          "output_type": "stream",
          "text": [
            "y_train[0]: 9\n"
          ]
        }
      ],
      "source": [
        "print(f'y_train[0]: {y_train[0]}')"
      ]
    },
    {
      "cell_type": "markdown",
      "metadata": {
        "id": "sKy8IfZrEqsV"
      },
      "source": [
        "### Preprocess the data"
      ]
    },
    {
      "cell_type": "markdown",
      "metadata": {
        "id": "nhBq0p4aDliz"
      },
      "source": [
        "You can normalize your data to improve the training performance.\n",
        "\n",
        "note that it's important that the training set and the testing set be preprocessed in the same way:"
      ]
    },
    {
      "cell_type": "code",
      "execution_count": null,
      "metadata": {
        "id": "4P6LLDmeDlLP"
      },
      "outputs": [],
      "source": [
        "x_train = x_train/ 255.0\n",
        "x_test = x_test / 255.0"
      ]
    },
    {
      "cell_type": "markdown",
      "metadata": {
        "id": "_8YJ7X64FApA"
      },
      "source": [
        "### Build the model"
      ]
    },
    {
      "cell_type": "markdown",
      "metadata": {
        "id": "r3olwGkVFbGC"
      },
      "source": [
        "The basic building block of a neural network is the [*layer*](https://www.tensorflow.org/api_docs/python/tf/keras/layers). Layers extract representations from the data fed into them. Hopefully, these representations are meaningful for the problem at hand.\n",
        "\n",
        "Most of deep learning consists of chaining together simple layers. Most layers, such as `tf.keras.layers.Dense`, have parameters that are learned during training."
      ]
    },
    {
      "cell_type": "code",
      "execution_count": null,
      "metadata": {
        "id": "6zcu1mE7zChi"
      },
      "outputs": [],
      "source": [
        "seq_model = Sequential()\n",
        "seq_model.add(Input(shape= (28,28)))\n",
        "seq_model.add(Flatten())\n",
        "seq_model.add(Dense(units=128, activation='relu'))\n",
        "seq_model.add(Dense(units=10))"
      ]
    },
    {
      "cell_type": "markdown",
      "metadata": {
        "id": "ZAXp8N_wFu-m"
      },
      "source": [
        "The first layer in this network, `tf.keras.layers.Flatten`, transforms the format of the images from a two-dimensional array (of 28 by 28 pixels) to a one-dimensional array (of 28 * 28 = 784 pixels). Think of this layer as unstacking rows of pixels in the image and lining them up. This layer has no parameters to learn; it only reformats the data.\n",
        "\n",
        "After the pixels are flattened, the network consists of a sequence of two `tf.keras.layers.Dense` layers. These are densely connected, or fully connected, neural layers. The first `Dense` layer has 128 nodes (or neurons). The second (and last) layer returns a logits array with length of 10. Each node contains a score that indicates the current image belongs to one of the 10 classes.\n",
        "\n",
        "\n",
        "\n"
      ]
    },
    {
      "cell_type": "code",
      "execution_count": null,
      "metadata": {
        "colab": {
          "base_uri": "https://localhost:8080/"
        },
        "id": "G9XLYiiiI-5f",
        "outputId": "ca7cb317-0976-4cc9-cb11-4cc8644e46b8"
      },
      "outputs": [
        {
          "name": "stdout",
          "output_type": "stream",
          "text": [
            "Model: \"sequential_4\"\n",
            "_________________________________________________________________\n",
            " Layer (type)                Output Shape              Param #   \n",
            "=================================================================\n",
            " flatten_3 (Flatten)         (None, 784)               0         \n",
            "                                                                 \n",
            " dense_7 (Dense)             (None, 128)               100480    \n",
            "                                                                 \n",
            " dense_8 (Dense)             (None, 10)                1290      \n",
            "                                                                 \n",
            "=================================================================\n",
            "Total params: 101,770\n",
            "Trainable params: 101,770\n",
            "Non-trainable params: 0\n",
            "_________________________________________________________________\n"
          ]
        }
      ],
      "source": [
        "seq_model.summary()"
      ]
    },
    {
      "cell_type": "markdown",
      "metadata": {
        "id": "yG55AoU_F_3P"
      },
      "source": [
        "### Compile the model"
      ]
    },
    {
      "cell_type": "markdown",
      "metadata": {
        "id": "0CmhGUPiGFUO"
      },
      "source": [
        "Before the model is ready for training, it needs a few more settings. These are added during the model's [*compile*](https://www.tensorflow.org/api_docs/python/tf/keras/Model#compile) step:\n",
        "\n",
        "* [*Loss function*](https://www.tensorflow.org/api_docs/python/tf/keras/losses) —This measures how accurate the model is during training. You want to minimize this function to \"steer\" the model in the right direction.\n",
        "* [*Optimizer*](https://www.tensorflow.org/api_docs/python/tf/keras/optimizers) —This is how the model is updated based on the data it sees and its loss function.\n",
        "* [*Metrics*](https://www.tensorflow.org/api_docs/python/tf/keras/metrics) —Used to monitor the training and testing steps. The following example uses *accuracy*, the fraction of the images that are correctly classified."
      ]
    },
    {
      "cell_type": "code",
      "execution_count": null,
      "metadata": {
        "id": "xEgGOrv-GEX0"
      },
      "outputs": [],
      "source": [
        "seq_model.compile(optimizer='adam',\n",
        "              loss=tf.keras.losses.SparseCategoricalCrossentropy(from_logits=True),\n",
        "              metrics=['accuracy'])"
      ]
    },
    {
      "cell_type": "markdown",
      "metadata": {
        "id": "_MmYp8UTG17Q"
      },
      "source": [
        "### Train the model"
      ]
    },
    {
      "cell_type": "markdown",
      "metadata": {
        "id": "a5Ydf9yxGbGz"
      },
      "source": [
        "Training the neural network model requires the following steps:\n",
        "\n",
        "1. Feed the training data to the model. In this example, the training data is in the `train_images` and `train_labels` arrays.\n",
        "2. The model learns to associate images and labels.\n",
        "3. You ask the model to make predictions about a test set—in this example, the `test_images` array.\n",
        "4. Verify that the predictions match the labels from the `test_labels` array.\n"
      ]
    },
    {
      "cell_type": "markdown",
      "metadata": {
        "id": "rNFb2HFkGnOT"
      },
      "source": [
        "#### Feed the model\n",
        "\n",
        "To start training,  call the [`model.fit`](https://www.tensorflow.org/api_docs/python/tf/keras/Model#fit) method—so called because it \"fits\" the model to the training data:"
      ]
    },
    {
      "cell_type": "code",
      "execution_count": null,
      "metadata": {
        "colab": {
          "base_uri": "https://localhost:8080/"
        },
        "id": "6yUWRI87HCil",
        "outputId": "6cd6ec59-e6b7-42d5-c4e7-5d845ba8854e"
      },
      "outputs": [
        {
          "name": "stdout",
          "output_type": "stream",
          "text": [
            "Epoch 1/10\n",
            "1875/1875 [==============================] - 10s 5ms/step - loss: 0.4803 - accuracy: 0.8284\n",
            "Epoch 2/10\n",
            "1875/1875 [==============================] - 9s 5ms/step - loss: 0.3602 - accuracy: 0.8684\n",
            "Epoch 3/10\n",
            "1875/1875 [==============================] - 9s 5ms/step - loss: 0.3251 - accuracy: 0.8800\n",
            "Epoch 4/10\n",
            "1875/1875 [==============================] - 11s 6ms/step - loss: 0.3036 - accuracy: 0.8870\n",
            "Epoch 5/10\n",
            "1875/1875 [==============================] - 11s 6ms/step - loss: 0.2847 - accuracy: 0.8931\n",
            "Epoch 6/10\n",
            "1875/1875 [==============================] - 10s 5ms/step - loss: 0.2687 - accuracy: 0.8995\n",
            "Epoch 7/10\n",
            "1875/1875 [==============================] - 9s 5ms/step - loss: 0.2556 - accuracy: 0.9039\n",
            "Epoch 8/10\n",
            "1875/1875 [==============================] - 9s 5ms/step - loss: 0.2447 - accuracy: 0.9081\n",
            "Epoch 9/10\n",
            "1875/1875 [==============================] - 10s 5ms/step - loss: 0.2352 - accuracy: 0.9108\n",
            "Epoch 10/10\n",
            "1875/1875 [==============================] - 8s 4ms/step - loss: 0.2248 - accuracy: 0.9140\n"
          ]
        }
      ],
      "source": [
        "history = seq_model.fit(x_train, y_train, epochs=10)"
      ]
    },
    {
      "cell_type": "markdown",
      "metadata": {
        "id": "nO_pjqJVHd68"
      },
      "source": [
        "As the model trains, the loss and accuracy metrics are displayed. This model reaches an accuracy of about 0.91 (or 91%) on the training data."
      ]
    },
    {
      "cell_type": "code",
      "execution_count": null,
      "metadata": {
        "colab": {
          "base_uri": "https://localhost:8080/",
          "height": 295
        },
        "id": "Att7bQusKXW-",
        "outputId": "fbd9df72-8ddf-4a25-ab38-c8a29772708a"
      },
      "outputs": [
        {
          "data": {
            "image/png": "[encoded data removed]",
            "text/plain": [
              "<Figure size 432x288 with 1 Axes>"
            ]
          },
          "metadata": {
            "needs_background": "light"
          },
          "output_type": "display_data"
        }
      ],
      "source": [
        "plt.plot(history.history['loss'])\n",
        "plt.title('Training loss')\n",
        "plt.xlabel('Epoch')\n",
        "plt.ylabel('loss')\n",
        "plt.show()"
      ]
    },
    {
      "cell_type": "code",
      "execution_count": null,
      "metadata": {
        "colab": {
          "base_uri": "https://localhost:8080/",
          "height": 295
        },
        "id": "UeaGehyBLASv",
        "outputId": "e20833ed-e2db-41d9-d3b2-0455033ace33"
      },
      "outputs": [
        {
          "data": {
            "image/png": "[encoded data removed]",
            "text/plain": [
              "<Figure size 432x288 with 1 Axes>"
            ]
          },
          "metadata": {
            "needs_background": "light"
          },
          "output_type": "display_data"
        }
      ],
      "source": [
        "plt.plot(history.history['accuracy'])\n",
        "plt.title('Training accuracy')\n",
        "plt.xlabel('Epoch')\n",
        "plt.ylabel('accuracy')\n",
        "plt.show()"
      ]
    },
    {
      "cell_type": "markdown",
      "metadata": {
        "id": "gy8lCIT8Hlm9"
      },
      "source": [
        "#### Evaluate accuracy\n",
        "\n",
        "Next, compare how the model performs on the test dataset:"
      ]
    },
    {
      "cell_type": "code",
      "execution_count": null,
      "metadata": {
        "colab": {
          "base_uri": "https://localhost:8080/"
        },
        "id": "nixAvZ1rIDiK",
        "outputId": "cea0ac47-fe2a-464c-cf81-78af6fff3dbb"
      },
      "outputs": [
        {
          "name": "stdout",
          "output_type": "stream",
          "text": [
            "313/313 - 1s - loss: 0.3531 - accuracy: 0.8903 - 717ms/epoch - 2ms/step\n",
            "\n",
            "Test accuracy: 0.8902999758720398\n"
          ]
        }
      ],
      "source": [
        "test_loss, test_acc = seq_model.evaluate(x_test,  y_test, verbose=2) # By setting verbose 0, 1 or 2 you just say how do you want to 'see' the training progress for each epoch.\n",
        "# verbose=0 will show you nothing (silent)\n",
        "# verbose=1 will show you an animated progress bar like this:\n",
        "# [=================================]\n",
        "# verbose=2 will just mention the number of epoch like this:\n",
        "# Epoch 1/10\n",
        "\n",
        "print('\\nTest accuracy:', test_acc)"
      ]
    },
    {
      "cell_type": "markdown",
      "metadata": {
        "id": "j2WiiDOOIoUg"
      },
      "source": [
        "It turns out that the accuracy on the test dataset is a little less than the accuracy on the training dataset. This gap between training accuracy and test accuracy represents *overfitting*. Overfitting happens when a machine learning model performs worse on new, previously unseen inputs than it does on the training data. An overfitted model \"memorizes\" the noise and details in the training dataset to a point where it negatively impacts the performance of the model on the new data."
      ]
    },
    {
      "cell_type": "markdown",
      "metadata": {
        "id": "mwL5UpkcJH5G"
      },
      "source": [
        "#### Make predictions\n",
        "\n",
        "With the model trained, you can use it to make predictions about some images.\n",
        "Attach a softmax layer to convert the model's linear outputs—[logits](https://developers.google.com/machine-learning/glossary#logits)—to probabilities, which should be easier to interpret."
      ]
    },
    {
      "cell_type": "code",
      "execution_count": null,
      "metadata": {
        "id": "nVrv6yxS1b3Z"
      },
      "outputs": [],
      "source": [
        "probability_model = tf.keras.Sequential([seq_model, Softmax()])"
      ]
    },
    {
      "cell_type": "code",
      "execution_count": null,
      "metadata": {
        "colab": {
          "base_uri": "https://localhost:8080/"
        },
        "id": "U0e3DBNSJWdC",
        "outputId": "7a7a5079-ac66-4f0b-ea2b-c3c30dec0405"
      },
      "outputs": [
        {
          "name": "stdout",
          "output_type": "stream",
          "text": [
            "313/313 [==============================] - 1s 2ms/step\n"
          ]
        }
      ],
      "source": [
        "y_pred = probability_model.predict(x_test)"
      ]
    },
    {
      "cell_type": "code",
      "execution_count": null,
      "metadata": {
        "colab": {
          "base_uri": "https://localhost:8080/"
        },
        "id": "aEvfBY0lJhP1",
        "outputId": "42989584-3025-42f5-d815-69d949395e64"
      },
      "outputs": [
        {
          "data": {
            "text/plain": [
              "array([5.19177483e-08, 1.21882975e-08, 4.07170688e-08, 3.78670592e-13,\n",
              "       1.36601746e-11, 1.04951887e-05, 1.57496727e-09, 1.63777359e-03,\n",
              "       1.99938094e-10, 9.98351693e-01], dtype=float32)"
            ]
          },
          "execution_count": 25,
          "metadata": {},
          "output_type": "execute_result"
        }
      ],
      "source": [
        "y_pred[0]"
      ]
    },
    {
      "cell_type": "markdown",
      "metadata": {
        "id": "Jrcz1W7KJqmB"
      },
      "source": [
        "A prediction is an array of 10 numbers. They represent the model's \"confidence\" that the image corresponds to each of the 10 different articles of clothing. You can see which label has the highest confidence value:"
      ]
    },
    {
      "cell_type": "code",
      "execution_count": null,
      "metadata": {
        "colab": {
          "base_uri": "https://localhost:8080/",
          "height": 282
        },
        "id": "E89dNnPIJnpa",
        "outputId": "6b937a82-75eb-4620-e761-e0bf09a67ed0"
      },
      "outputs": [
        {
          "name": "stdout",
          "output_type": "stream",
          "text": [
            "label : 9 and class : Ankle boot\n"
          ]
        },
        {
          "data": {
            "image/png": "[encoded data removed]",
            "text/plain": [
              "<Figure size 432x288 with 1 Axes>"
            ]
          },
          "metadata": {
            "needs_background": "light"
          },
          "output_type": "display_data"
        }
      ],
      "source": [
        "plt.imshow(x_test[0],cmap='gray')\n",
        "label = np.argmax(y_pred[0])\n",
        "print(f'label : {label} and class : {class_names[label]}')"
      ]
    },
    {
      "cell_type": "markdown",
      "metadata": {
        "id": "tBohhXZ-LlHJ"
      },
      "source": [
        "## Basic classification: Classify images of handwritten digits"
      ]
    },
    {
      "cell_type": "markdown",
      "metadata": {
        "id": "BsVQ7Q_aL0DJ"
      },
      "source": [
        "In this section you should design a neural network arcitecutre and train it on [MNIST](http://yann.lecun.com/exdb/mnist/) dataset. note that you should implent your arcitecutre with both sequential and functional approachs. we have already implemented a network with sequential approach on Fashion Mnist dataset. You can read more about functional approach in [this link](https://www.tensorflow.org/guide/keras/functional).\n",
        "  \n",
        "\n",
        "You can use [this link](https://keras.io/api/datasets/mnist/) for loading Mnist dataset. \n",
        "\n",
        "You should also implement all the prior steps for this dataset. "
      ]
    },
    {
      "cell_type": "code",
      "execution_count": 3,
      "metadata": {
        "colab": {
          "base_uri": "https://localhost:8080/"
        },
        "id": "cjXd8bbl5rat",
        "outputId": "f7881bee-f714-4643-ee5e-0accb0d36f64"
      },
      "outputs": [
        {
          "name": "stdout",
          "output_type": "stream",
          "text": [
            "Downloading data from https://storage.googleapis.com/tensorflow/tf-keras-datasets/mnist.npz\n",
            "11490434/11490434 [==============================] - 1s 0us/step\n"
          ]
        }
      ],
      "source": [
        "from tensorflow.keras.datasets import mnist\n",
        "# load mnist\n",
        "(train_images, train_labels), (test_images, test_labels) = mnist.load_data()"
      ]
    },
    {
      "cell_type": "code",
      "execution_count": 4,
      "metadata": {
        "colab": {
          "base_uri": "https://localhost:8080/",
          "height": 452
        },
        "id": "g7A1UO1KPo73",
        "outputId": "962dc406-7338-41f8-8501-ccb6baa747d7"
      },
      "outputs": [
        {
          "data": {
            "image/png": "[encoded data removed]",
            "text/plain": [
              "<Figure size 640x480 with 1 Axes>"
            ]
          },
          "metadata": {},
          "output_type": "display_data"
        }
      ],
      "source": [
        "# see some data \n",
        "plt.imshow(train_images[0, :, :], cmap='gray')\n",
        "plt.title(f'The actual label: {train_labels[0]}')\n",
        "plt.show()"
      ]
    },
    {
      "cell_type": "code",
      "execution_count": 5,
      "metadata": {
        "id": "XWo-Z_i7H8uS"
      },
      "outputs": [],
      "source": [
        "# reshape data and preprocess\n",
        "train_images = train_images.reshape((60000, 28 * 28))\n",
        "train_images = train_images / 255.\n",
        "test_images = test_images.reshape((10000, 28 * 28))\n",
        "test_images = test_images.astype(\"float32\") / 255"
      ]
    },
    {
      "cell_type": "markdown",
      "metadata": {
        "id": "4YOrD3t5Ppdh"
      },
      "source": [
        "## Sequential approach"
      ]
    },
    {
      "cell_type": "code",
      "execution_count": 25,
      "metadata": {
        "colab": {
          "base_uri": "https://localhost:8080/"
        },
        "id": "iC-vnl1DLutG",
        "outputId": "e05e00aa-78f2-4e5d-b9f8-d7e161ee6ec2"
      },
      "outputs": [
        {
          "name": "stdout",
          "output_type": "stream",
          "text": [
            "Model: \"sequential_model\"\n",
            "_________________________________________________________________\n",
            " Layer (type)                Output Shape              Param #   \n",
            "=================================================================\n",
            " dense_9 (Dense)             (None, 64)                50240     \n",
            "                                                                 \n",
            " dense_10 (Dense)            (None, 64)                4160      \n",
            "                                                                 \n",
            " dense_11 (Dense)            (None, 10)                650       \n",
            "                                                                 \n",
            "=================================================================\n",
            "Total params: 55,050\n",
            "Trainable params: 55,050\n",
            "Non-trainable params: 0\n",
            "_________________________________________________________________\n"
          ]
        }
      ],
      "source": [
        "from tensorflow import keras\n",
        "# build sequential model with 2 hidden layers\n",
        "seq_model = Sequential([\n",
        "    Input(shape=(28 * 28,)),\n",
        "    Dense(64, activation=\"relu\"),\n",
        "    Dense(64, activation=\"relu\"),\n",
        "    Dense(10, activation=\"softmax\")\n",
        "], name=\"sequential_model\")\n",
        "\n",
        "# seq_model = Sequential()\n",
        "# seq_model.add(Input(shape=(28 * 28,)))\n",
        "# seq_model.add(Dense(64, activation=\"relu\"))\n",
        "# seq_model.add(Dense(64, activation=\"relu\"))\n",
        "# seq_model.add(Dense(units=10, activation=\"softmax\"))\n",
        "\n",
        "seq_model.summary()"
      ]
    },
    {
      "cell_type": "code",
      "execution_count": 26,
      "metadata": {
        "id": "zSAeuBGWPtro"
      },
      "outputs": [],
      "source": [
        "# compile model\n",
        "seq_model.compile(optimizer='rmsprop',\n",
        "                loss=tf.keras.losses.SparseCategoricalCrossentropy(from_logits=False),\n",
        "                # loss=tf.keras.losses.SparseCategoricalCrossentropy(from_logits=True), # if don't have softmax\n",
        "                metrics=['accuracy'])"
      ]
    },
    {
      "cell_type": "code",
      "execution_count": 11,
      "metadata": {
        "colab": {
          "base_uri": "https://localhost:8080/",
          "height": 422
        },
        "id": "rT74djFeIvjy",
        "outputId": "d1355268-85e1-4879-ae30-2eda194720ae"
      },
      "outputs": [
        {
          "data": {
            "image/png": "[encoded data removed]",
            "text/plain": [
              "<IPython.core.display.Image object>"
            ]
          },
          "execution_count": 11,
          "metadata": {},
          "output_type": "execute_result"
        }
      ],
      "source": [
        "# keras.utils.plot_model(seq_model, \"functional_model.png\")\n",
        "keras.utils.plot_model(seq_model, \"my_first_model_with_shape_info.png\", show_shapes=True)"
      ]
    },
    {
      "cell_type": "code",
      "execution_count": 27,
      "metadata": {
        "colab": {
          "base_uri": "https://localhost:8080/"
        },
        "id": "VE1lNWxEI4E2",
        "outputId": "296ccbe2-e851-4cb5-c984-eddc69ff8e81"
      },
      "outputs": [
        {
          "name": "stdout",
          "output_type": "stream",
          "text": [
            "Epoch 1/10\n",
            "750/750 [==============================] - 4s 4ms/step - loss: 0.3453 - accuracy: 0.9029 - val_loss: 0.1748 - val_accuracy: 0.9494\n",
            "Epoch 2/10\n",
            "750/750 [==============================] - 3s 4ms/step - loss: 0.1610 - accuracy: 0.9516 - val_loss: 0.1350 - val_accuracy: 0.9604\n",
            "Epoch 3/10\n",
            "750/750 [==============================] - 2s 3ms/step - loss: 0.1146 - accuracy: 0.9662 - val_loss: 0.1196 - val_accuracy: 0.9648\n",
            "Epoch 4/10\n",
            "750/750 [==============================] - 3s 4ms/step - loss: 0.0896 - accuracy: 0.9732 - val_loss: 0.1006 - val_accuracy: 0.9707\n",
            "Epoch 5/10\n",
            "750/750 [==============================] - 3s 4ms/step - loss: 0.0734 - accuracy: 0.9777 - val_loss: 0.1049 - val_accuracy: 0.9695\n",
            "Epoch 6/10\n",
            "750/750 [==============================] - 3s 4ms/step - loss: 0.0623 - accuracy: 0.9804 - val_loss: 0.0998 - val_accuracy: 0.9735\n",
            "Epoch 7/10\n",
            "750/750 [==============================] - 3s 3ms/step - loss: 0.0529 - accuracy: 0.9840 - val_loss: 0.0953 - val_accuracy: 0.9744\n",
            "Epoch 8/10\n",
            "750/750 [==============================] - 3s 3ms/step - loss: 0.0458 - accuracy: 0.9856 - val_loss: 0.0984 - val_accuracy: 0.9734\n",
            "Epoch 9/10\n",
            "750/750 [==============================] - 2s 3ms/step - loss: 0.0398 - accuracy: 0.9877 - val_loss: 0.1054 - val_accuracy: 0.9713\n",
            "Epoch 10/10\n",
            "750/750 [==============================] - 3s 4ms/step - loss: 0.0347 - accuracy: 0.9889 - val_loss: 0.1016 - val_accuracy: 0.9742\n"
          ]
        }
      ],
      "source": [
        "# fit model\n",
        "seq_model_history = seq_model.fit(train_images, train_labels, epochs=10, batch_size=64, validation_split=0.2)"
      ]
    },
    {
      "cell_type": "code",
      "execution_count": 28,
      "metadata": {
        "colab": {
          "base_uri": "https://localhost:8080/",
          "height": 452
        },
        "id": "VOJOy5nJJ9jA",
        "outputId": "edb33dc4-084a-4b7a-8471-98a0351eb602"
      },
      "outputs": [
        {
          "data": {
            "image/png": "[encoded data removed]",
            "text/plain": [
              "<Figure size 640x480 with 1 Axes>"
            ]
          },
          "metadata": {},
          "output_type": "display_data"
        }
      ],
      "source": [
        "plt.plot(range(10), seq_model_history.history['loss'])\n",
        "plt.plot(range(10), seq_model_history.history['accuracy'])\n",
        "plt.title('The metrics plot')\n",
        "plt.legend(['loss', 'acc'])\n",
        "plt.show()"
      ]
    },
    {
      "cell_type": "code",
      "execution_count": 29,
      "metadata": {
        "colab": {
          "base_uri": "https://localhost:8080/"
        },
        "id": "FstiSeLrKCV4",
        "outputId": "3f050690-8806-4f00-a568-fe73d2277fa6"
      },
      "outputs": [
        {
          "name": "stdout",
          "output_type": "stream",
          "text": [
            "313/313 [==============================] - 1s 2ms/step - loss: 0.0966 - accuracy: 0.9738\n",
            "Test accuracy: 0.973800003528595\n",
            "Test loss: 0.09658117592334747\n"
          ]
        }
      ],
      "source": [
        "test_loss, test_acc = seq_model.evaluate(test_images, test_labels)\n",
        "print(f\"Test accuracy: {test_acc}\")\n",
        "print(f\"Test loss: {test_loss}\")"
      ]
    },
    {
      "cell_type": "code",
      "execution_count": 17,
      "metadata": {
        "colab": {
          "base_uri": "https://localhost:8080/",
          "height": 470
        },
        "id": "dXm8I1oxKEZR",
        "outputId": "2d120e21-0814-437f-8f2e-6d6ef3d8121a"
      },
      "outputs": [
        {
          "name": "stdout",
          "output_type": "stream",
          "text": [
            "313/313 [==============================] - 1s 2ms/step\n"
          ]
        },
        {
          "data": {
            "image/png": "[encoded data removed]",
            "text/plain": [
              "<Figure size 640x480 with 1 Axes>"
            ]
          },
          "metadata": {},
          "output_type": "display_data"
        }
      ],
      "source": [
        "predictions = seq_model.predict(test_images)\n",
        "\n",
        "plt.imshow(test_images[0, :].reshape((28, 28)), cmap='gray')\n",
        "plt.title(f'Pred: {np.argmax(predictions[0])}, Actual: {test_labels[0]}')\n",
        "plt.show()"
      ]
    },
    {
      "cell_type": "markdown",
      "metadata": {
        "id": "PpkA5vL1PuA_"
      },
      "source": [
        "## Functional Approch"
      ]
    },
    {
      "cell_type": "code",
      "execution_count": 19,
      "metadata": {
        "colab": {
          "base_uri": "https://localhost:8080/"
        },
        "id": "tsfs8DGWPv_i",
        "outputId": "8bf92e9a-ac16-48d1-d2ce-596cb04db7b9"
      },
      "outputs": [
        {
          "name": "stdout",
          "output_type": "stream",
          "text": [
            "Model: \"functional_model\"\n",
            "_________________________________________________________________\n",
            " Layer (type)                Output Shape              Param #   \n",
            "=================================================================\n",
            " input_3 (InputLayer)        [(None, 784)]             0         \n",
            "                                                                 \n",
            " dense_6 (Dense)             (None, 64)                50240     \n",
            "                                                                 \n",
            " dense_7 (Dense)             (None, 64)                4160      \n",
            "                                                                 \n",
            " dense_8 (Dense)             (None, 10)                650       \n",
            "                                                                 \n",
            "=================================================================\n",
            "Total params: 55,050\n",
            "Trainable params: 55,050\n",
            "Non-trainable params: 0\n",
            "_________________________________________________________________\n"
          ]
        }
      ],
      "source": [
        "# build functional model\n",
        "\n",
        "inputs = keras.Input(shape=(784,)) # 28*28\n",
        "# inputs.shape\n",
        "# inputs.dtype\n",
        "\n",
        "dense = Dense(64, activation=\"relu\")\n",
        "x = dense(inputs)\n",
        "\n",
        "x = Dense(64, activation=\"relu\")(x)\n",
        "\n",
        "outputs = Dense(10)(x)\n",
        "\n",
        "functional_model = keras.Model(inputs=inputs, outputs=outputs, name=\"functional_model\")\n",
        "functional_model.summary()"
      ]
    },
    {
      "cell_type": "code",
      "execution_count": 20,
      "metadata": {
        "colab": {
          "base_uri": "https://localhost:8080/",
          "height": 422
        },
        "id": "ugYKAXMUPzKs",
        "outputId": "ce33a171-5d15-4530-de2a-2a38e7de62ac"
      },
      "outputs": [
        {
          "data": {
            "image/png": "[encoded data removed]",
            "text/plain": [
              "<IPython.core.display.Image object>"
            ]
          },
          "execution_count": 20,
          "metadata": {},
          "output_type": "execute_result"
        }
      ],
      "source": [
        "# keras.utils.plot_model(functional_model, \"functional_model.png\")\n",
        "keras.utils.plot_model(functional_model, \"my_first_model_with_shape_info.png\", show_shapes=True)"
      ]
    },
    {
      "cell_type": "code",
      "execution_count": 21,
      "metadata": {
        "colab": {
          "base_uri": "https://localhost:8080/"
        },
        "id": "J9CWKhP9KYhq",
        "outputId": "198950ec-93cf-4b82-ed90-10bbfc73ed4c"
      },
      "outputs": [
        {
          "name": "stdout",
          "output_type": "stream",
          "text": [
            "Epoch 1/10\n",
            "750/750 [==============================] - 3s 3ms/step - loss: 0.3391 - accuracy: 0.9035 - val_loss: 0.1873 - val_accuracy: 0.9462\n",
            "Epoch 2/10\n",
            "750/750 [==============================] - 3s 3ms/step - loss: 0.1515 - accuracy: 0.9543 - val_loss: 0.1296 - val_accuracy: 0.9637\n",
            "Epoch 3/10\n",
            "750/750 [==============================] - 2s 3ms/step - loss: 0.1103 - accuracy: 0.9667 - val_loss: 0.1166 - val_accuracy: 0.9665\n",
            "Epoch 4/10\n",
            "750/750 [==============================] - 3s 4ms/step - loss: 0.0880 - accuracy: 0.9733 - val_loss: 0.1154 - val_accuracy: 0.9669\n",
            "Epoch 5/10\n",
            "750/750 [==============================] - 3s 4ms/step - loss: 0.0739 - accuracy: 0.9777 - val_loss: 0.1102 - val_accuracy: 0.9688\n",
            "Epoch 6/10\n",
            "750/750 [==============================] - 2s 3ms/step - loss: 0.0621 - accuracy: 0.9808 - val_loss: 0.1025 - val_accuracy: 0.9716\n",
            "Epoch 7/10\n",
            "750/750 [==============================] - 3s 4ms/step - loss: 0.0534 - accuracy: 0.9836 - val_loss: 0.1027 - val_accuracy: 0.9729\n",
            "Epoch 8/10\n",
            "750/750 [==============================] - 2s 3ms/step - loss: 0.0459 - accuracy: 0.9864 - val_loss: 0.1099 - val_accuracy: 0.9712\n",
            "Epoch 9/10\n",
            "750/750 [==============================] - 3s 4ms/step - loss: 0.0401 - accuracy: 0.9876 - val_loss: 0.1141 - val_accuracy: 0.9707\n",
            "Epoch 10/10\n",
            "750/750 [==============================] - 3s 4ms/step - loss: 0.0351 - accuracy: 0.9895 - val_loss: 0.1176 - val_accuracy: 0.9710\n"
          ]
        }
      ],
      "source": [
        "\n",
        "functional_model.compile(optimizer='rmsprop',\n",
        "                loss=tf.keras.losses.SparseCategoricalCrossentropy(from_logits=True),\n",
        "                metrics=['accuracy'])\n",
        "\n",
        "functional_model_history = functional_model.fit(train_images, train_labels, epochs=10, batch_size=64, validation_split=0.2)"
      ]
    },
    {
      "cell_type": "code",
      "execution_count": 22,
      "metadata": {
        "colab": {
          "base_uri": "https://localhost:8080/",
          "height": 452
        },
        "id": "E_70_ExyKp04",
        "outputId": "cca60b09-38b8-43a0-b844-c5eae3296b62"
      },
      "outputs": [
        {
          "data": {
            "image/png": "[encoded data removed]",
            "text/plain": [
              "<Figure size 640x480 with 1 Axes>"
            ]
          },
          "metadata": {},
          "output_type": "display_data"
        }
      ],
      "source": [
        "plt.plot(range(10), functional_model_history.history['loss'])\n",
        "plt.plot(range(10), functional_model_history.history['accuracy'])\n",
        "plt.title('The metrics plot')\n",
        "plt.legend(['loss', 'acc'])\n",
        "plt.show()"
      ]
    },
    {
      "cell_type": "code",
      "execution_count": 23,
      "metadata": {
        "colab": {
          "base_uri": "https://localhost:8080/"
        },
        "id": "cqAYJ5kKKr_u",
        "outputId": "8432fa6b-45ef-44ac-dd78-74ab547573bc"
      },
      "outputs": [
        {
          "name": "stdout",
          "output_type": "stream",
          "text": [
            "313/313 - 1s - loss: 0.1132 - accuracy: 0.9705 - 569ms/epoch - 2ms/step\n",
            "Test accuracy: 0.9704999923706055\n",
            "Test loss: 0.11321462690830231\n"
          ]
        }
      ],
      "source": [
        "test_loss, test_acc = functional_model.evaluate(test_images, test_labels, verbose=2)\n",
        "print(f\"Test accuracy: {test_acc}\")\n",
        "print(f\"Test loss: {test_loss}\")"
      ]
    },
    {
      "cell_type": "code",
      "execution_count": 24,
      "metadata": {
        "colab": {
          "base_uri": "https://localhost:8080/",
          "height": 470
        },
        "id": "6dEVoa20Kufe",
        "outputId": "7560eb9f-f742-4a06-dea2-dd19f6fe5249"
      },
      "outputs": [
        {
          "name": "stdout",
          "output_type": "stream",
          "text": [
            "313/313 [==============================] - 1s 2ms/step\n"
          ]
        },
        {
          "data": {
            "image/png": "[encoded data removed]",
            "text/plain": [
              "<Figure size 640x480 with 1 Axes>"
            ]
          },
          "metadata": {},
          "output_type": "display_data"
        }
      ],
      "source": [
        "predictions = functional_model.predict(test_images)\n",
        "\n",
        "plt.imshow(test_images[0, :].reshape((28, 28)), cmap='gray')\n",
        "plt.title(f'Pred: {np.argmax(predictions[0])}, Actual: {test_labels[0]}')\n",
        "plt.show()"
      ]
    }
  ],
  "metadata": {
    "accelerator": "GPU",
    "colab": {
      "gpuType": "T4",
      "provenance": []
    },
    "kernelspec": {
      "display_name": "Python 3",
      "name": "python3"
    },
    "language_info": {
      "name": "python"
    }
  },
  "nbformat": 4,
  "nbformat_minor": 0
}
