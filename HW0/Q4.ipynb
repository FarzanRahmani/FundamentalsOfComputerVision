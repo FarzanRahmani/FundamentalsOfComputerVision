{
 "cells": [
  {
   "cell_type": "markdown",
   "metadata": {},
   "source": [
    "# Q4"
   ]
  },
  {
   "cell_type": "markdown",
   "metadata": {},
   "source": [
    "## Part A"
   ]
  },
  {
   "cell_type": "code",
   "execution_count": 3,
   "metadata": {},
   "outputs": [
    {
     "name": "stdout",
     "output_type": "stream",
     "text": [
      "[[0.796875 1.796875 2.796875]\n",
      " [4.       5.       6.      ]\n",
      " [7.203125 8.203125 9.203125]]\n"
     ]
    }
   ],
   "source": [
    "\"\"\"\n",
    "Please define the mentioned matrices and the operations\n",
    "\n",
    "consider the bellow links:\n",
    "https://numpy.org/doc/stable/reference/generated/numpy.transpose.html\n",
    "\n",
    "https://numpy.org/doc/stable/reference/generated/numpy.dot.html\n",
    "\n",
    "\"\"\"\n",
    "import numpy as np\n",
    "\n",
    "##############################################\n",
    "############ YOUR CODES GO HERE ##############\n",
    "A = np.array([[1, 2, 3], [4, 5, 6], [7, 8, 9]])\n",
    "transposed_A = A.transpose()\n",
    "B = np.array([[1], [-1], [1]])\n",
    "# print(A)\n",
    "# print(transposed_A)\n",
    "# print(B)\n",
    "M1 = np.linalg.inv(np.dot(transposed_A, A))\n",
    "# M1 = np.linalg.inv(np.matmul(transposed_A, A))\n",
    "# M1 = np.linalg.inv(transposed_A @ A)\n",
    "# print(M1)\n",
    "M2 = np.dot(np.dot(M1, transposed_A),B)\n",
    "# M2 = np.matmul(np.matmul(M1, transposed_A),B)\n",
    "# M2 = (M1 @ transposed_A) @ B\n",
    "# print(M2)\n",
    "M3 = M2 + A\n",
    "# M3 = np.add(M2,A)\n",
    "print(M3)\n",
    "##############################################"
   ]
  },
  {
   "cell_type": "markdown",
   "metadata": {},
   "source": [
    "## Part B"
   ]
  },
  {
   "cell_type": "code",
   "execution_count": 12,
   "metadata": {},
   "outputs": [],
   "source": [
    "def window_sliding(A, B):\n",
    "\n",
    "  \"\"\"\n",
    "  In this function you should implement the sliding window method\n",
    "\n",
    "  Arguments:\n",
    "    inputs:\n",
    "      A: a matrix of 3*3 order for treating as the window\n",
    "      B: a matrix of 5*5 order for treating as the input matrix\n",
    "    outputs:\n",
    "      res: resulting matrix of the sliding window \n",
    "  \"\"\"\n",
    "\n",
    "  # C = np.convolve(A, B, 'valid')\n",
    "  # print(C)\n",
    "  ##############################################\n",
    "  ############ YOUR CODES GO HERE ##############\n",
    "  A_shape = A.shape\n",
    "  B_shape = B.shape\n",
    "  res = np.zeros((B_shape[0] - A_shape[0] + 1, B_shape[1] - A_shape[1] + 1))\n",
    "  for row in range(res.shape[0]): # slide the window over the input matrix B. \n",
    "    for col in range(res.shape[1]):\n",
    "      element = np.sum(A * B[row:row+A_shape[0], col:col+A_shape[1]]) # calculate the sum of element-wise multiplication of A and B[row:row+2, col:col+2]. \n",
    "      # element = np.sum(np.dot(A, B[row:row+A_shape[0], col:col+A_shape[1]])) # calculate the sum of element-wise multiplication of A and B[row:row+2, col:col+2]. \n",
    "      res[row, col] = element\n",
    "  \n",
    "  ##############################################\n",
    "  # res = np.lib.stride_tricks.sliding_window_view(B, A.shape)\n",
    "\n",
    "  return res"
   ]
  },
  {
   "cell_type": "code",
   "execution_count": 13,
   "metadata": {},
   "outputs": [
    {
     "name": "stdout",
     "output_type": "stream",
     "text": [
      "[[-7. -5. -7.]\n",
      " [-5. -2. -5.]\n",
      " [-7. -5. -7.]]\n"
     ]
    }
   ],
   "source": [
    "A = np.array([[1,1,1],[1,-9,1],[1,1,1]])\n",
    "B = np.array([[1,1,1,1,1],[1,2,2,2,1],[1,2,2,2,1],[1,2,2,2,1],[1,1,1,1,1]])\n",
    "print(window_sliding(A, B))"
   ]
  }
 ],
 "metadata": {
  "kernelspec": {
   "display_name": "base",
   "language": "python",
   "name": "python3"
  },
  "language_info": {
   "codemirror_mode": {
    "name": "ipython",
    "version": 3
   },
   "file_extension": ".py",
   "mimetype": "text/x-python",
   "name": "python",
   "nbconvert_exporter": "python",
   "pygments_lexer": "ipython3",
   "version": "3.8.3"
  },
  "orig_nbformat": 4,
  "vscode": {
   "interpreter": {
    "hash": "49cb93f377a7abe7414b7b0f21fb3017538004a126cf690fb524202736b7fb92"
   }
  }
 },
 "nbformat": 4,
 "nbformat_minor": 2
}
