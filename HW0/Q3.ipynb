{
  "cells": [
    {
      "attachments": {},
      "cell_type": "markdown",
      "metadata": {
        "id": "P9PoDHBl3QKv"
      },
      "source": [
        "# Q3\n",
        "*Work with Numpy*<br>\n",
        "In this notebook you're going to work with the numpy library to solve the problems<br>\n",
        "Please follow the instructions and hints provided for each cell"
      ]
    },
    {
      "attachments": {},
      "cell_type": "markdown",
      "metadata": {},
      "source": [
        "## Part A"
      ]
    },
    {
      "cell_type": "code",
      "execution_count": 1,
      "metadata": {
        "id": "1ZbZ5H1j5Zhw"
      },
      "outputs": [],
      "source": [
        "import numpy as np"
      ]
    },
    {
      "cell_type": "code",
      "execution_count": 2,
      "metadata": {
        "id": "5nvuXUyB2aLJ"
      },
      "outputs": [],
      "source": [
        "def create_matrix(n):\n",
        "  \"\"\"\n",
        "  In this function you should create matrix in order of n*n with random numbers \n",
        "  in the [n, n+100) interval.\n",
        "\n",
        "  see the bellow link:\n",
        "    https://numpy.org/doc/stable/reference/random/generated/numpy.random.randint.html\n",
        "\n",
        "  Arguments:\n",
        "    inputs:\n",
        "      n: an integer describing the order of the matrix\n",
        "    outputs:\n",
        "      created matrix  \n",
        "  \"\"\"\n",
        "  ##############################################\n",
        "  ############ YOUR CODES GO HERE ##############\n",
        "  matrix = np.random.randint(n, n+100, size=(n, n))\n",
        "  ##############################################\n",
        "\n",
        "  return matrix"
      ]
    },
    {
      "cell_type": "code",
      "execution_count": 9,
      "metadata": {
        "id": "1PiKjLsl6KhD"
      },
      "outputs": [
        {
          "name": "stdout",
          "output_type": "stream",
          "text": [
            "please enter the n:\n",
            "matrix shape: \n",
            "(5, 5)\n",
            "matrix values\n",
            "[[ 44  13  70  35  84]\n",
            " [ 83  56  37  97  93]\n",
            " [ 81  96   7 100  76]\n",
            " [ 10  98  34  35  57]\n",
            " [ 76   9  62  55  77]]\n"
          ]
        }
      ],
      "source": [
        "\"\"\"\n",
        "In this cell you should get the input n and create the matrix by calling the function\n",
        "Then print the matrix\n",
        "\"\"\"\n",
        "##############################################\n",
        "############ YOUR CODES GO HERE ##############\n",
        "print(\"please enter the n:\")\n",
        "n = int(input())\n",
        "matrix = create_matrix(n)\n",
        "# print matrix\n",
        "print(\"matrix shape: \")\n",
        "print(matrix.shape)\n",
        "print(\"matrix values\")\n",
        "print(matrix)\n",
        "##############################################"
      ]
    },
    {
      "cell_type": "code",
      "execution_count": 18,
      "metadata": {
        "id": "Cnocq2_56mdx"
      },
      "outputs": [],
      "source": [
        "def count_digits(matrix):\n",
        "  \"\"\"\n",
        "  In this function you should implement a routine to count the digits in the given matrix.\n",
        "\n",
        "  Arguments:\n",
        "    inputs:\n",
        "      matrix: input matrix\n",
        "    outputs:\n",
        "      digits: a dictionary containing digits as its keys and the counted numbers as its value\n",
        "  \"\"\"\n",
        "\n",
        "  ##############################################\n",
        "  ############ YOUR CODES GO HERE ##############\n",
        "  digits = {}\n",
        "  for dig in range(10):\n",
        "    digits[dig] = 0\n",
        "  matrix_shape = matrix.shape\n",
        "  for i in range(matrix_shape[0]):\n",
        "    for j in range(matrix_shape[1]):\n",
        "      num = matrix[i][j]\n",
        "      # https://stackoverflow.com/questions/21270320/turn-a-single-number-into-single-digits-python#:~:text=Use%20str%20to%20convert%20the,the%20digits%20back%20into%20integers.\n",
        "      for digit_as_str in str(num):\n",
        "        digit = int(digit_as_str)\n",
        "        # if digit in digits:\n",
        "        #   digits[digit] += 1\n",
        "        # else:\n",
        "        #   digits[digit] = 1\n",
        "        digits[digit] += 1\n",
        "\n",
        "  ##############################################\n",
        "\n",
        "  return digits\n"
      ]
    },
    {
      "cell_type": "code",
      "execution_count": 19,
      "metadata": {
        "id": "Aq3mHGcc7f2i"
      },
      "outputs": [
        {
          "name": "stdout",
          "output_type": "stream",
          "text": [
            "{0: 4, 1: 4, 2: 1, 3: 7, 4: 4, 5: 6, 6: 5, 7: 9, 8: 4, 9: 5}\n"
          ]
        }
      ],
      "source": [
        "\"\"\"\n",
        "In this cell call the implemented function and print the result\n",
        "\"\"\"\n",
        "\n",
        "\n",
        "##############################################\n",
        "############ YOUR CODES GO HERE ##############\n",
        "digits = count_digits(matrix)\n",
        "print(digits)\n",
        "##############################################"
      ]
    },
    {
      "attachments": {},
      "cell_type": "markdown",
      "metadata": {
        "id": "ALqhYliZ8Ie8"
      },
      "source": [
        "## Part B"
      ]
    },
    {
      "cell_type": "code",
      "execution_count": 34,
      "metadata": {
        "id": "bhTfjtO78LT1"
      },
      "outputs": [],
      "source": [
        "def traverse_matrix(matrix):\n",
        "  \"\"\"\n",
        "  Traverse the input matrix in the given manner then print result\n",
        "\n",
        "  Arguments:\n",
        "    inputs:\n",
        "      matrix: input matrix\n",
        "    outputs\n",
        "  \"\"\"\n",
        "\n",
        "  ##############################################\n",
        "  ############ YOUR CODES GO HERE ##############\n",
        "  res = []\n",
        "\n",
        "  matrix_shape = matrix.shape\n",
        "  n = matrix_shape[0]\n",
        "  for diameter in range(0, 2*n-2+1):\n",
        "    if (diameter % 2 == 1):\n",
        "      for row in range(max(0, diameter-n), min(n, diameter+1)):\n",
        "        col = diameter - row\n",
        "        if col >= n:\n",
        "            continue\n",
        "        # print(matrix[row,col])\n",
        "        # print(f\"row: {row}, col: {col}\")\n",
        "        res.append(matrix[row, col])\n",
        "    else:\n",
        "      for col in range(max(0, diameter-n), min(n, diameter+1)):\n",
        "        row = diameter - col\n",
        "        if row >= n:\n",
        "            continue\n",
        "        # print(matrix[row,col])\n",
        "        # print(f\"row: {row}, col: {col}\")\n",
        "        res.append(matrix[row, col])\n",
        "  return res\n",
        "  ##############################################"
      ]
    },
    {
      "cell_type": "code",
      "execution_count": 37,
      "metadata": {
        "id": "9Imf-wvd8oKL"
      },
      "outputs": [
        {
          "name": "stdout",
          "output_type": "stream",
          "text": [
            "[[ 44  13  70  35  84]\n",
            " [ 83  56  37  97  93]\n",
            " [ 81  96   7 100  76]\n",
            " [ 10  98  34  35  57]\n",
            " [ 76   9  62  55  77]]\n",
            "[44, 13, 83, 81, 56, 70, 35, 37, 96, 10, 76, 98, 7, 97, 84, 93, 100, 34, 9, 62, 35, 76, 57, 55, 77]\n",
            "44\n",
            "13\n",
            "83\n",
            "81\n",
            "56\n",
            "70\n",
            "35\n",
            "37\n",
            "96\n",
            "10\n",
            "76\n",
            "98\n",
            "7\n",
            "97\n",
            "84\n",
            "93\n",
            "100\n",
            "34\n",
            "9\n",
            "62\n",
            "35\n",
            "76\n",
            "57\n",
            "55\n",
            "77\n"
          ]
        }
      ],
      "source": [
        "result = traverse_matrix(matrix)\n",
        "print(matrix)\n",
        "print(result)\n",
        "for res in result:\n",
        "    print(res)\n",
        "#print output"
      ]
    }
  ],
  "metadata": {
    "colab": {
      "provenance": []
    },
    "kernelspec": {
      "display_name": "base",
      "language": "python",
      "name": "python3"
    },
    "language_info": {
      "name": "python",
      "version": "3.8.3"
    },
    "vscode": {
      "interpreter": {
        "hash": "49cb93f377a7abe7414b7b0f21fb3017538004a126cf690fb524202736b7fb92"
      }
    }
  },
  "nbformat": 4,
  "nbformat_minor": 0
}
